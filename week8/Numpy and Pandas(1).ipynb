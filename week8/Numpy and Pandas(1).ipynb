{
 "cells": [
  {
   "cell_type": "markdown",
   "id": "32e4a569-df8a-494e-b729-a63c7d3be018",
   "metadata": {},
   "source": [
    "# Numpy array"
   ]
  },
  {
   "cell_type": "code",
   "execution_count": 69,
   "id": "b8226ebf-5061-40fb-9967-d94ca404b621",
   "metadata": {},
   "outputs": [],
   "source": [
    "my_list = [1, 2, 3]"
   ]
  },
  {
   "cell_type": "code",
   "execution_count": 3,
   "id": "d8da9549-4887-4c59-bcf9-467df9184164",
   "metadata": {},
   "outputs": [],
   "source": [
    "import numpy as np"
   ]
  },
  {
   "cell_type": "code",
   "execution_count": 4,
   "id": "cc9810f5-bf81-45d4-b2a7-feab101e0e8c",
   "metadata": {},
   "outputs": [
    {
     "data": {
      "text/plain": [
       "array([1, 2, 3])"
      ]
     },
     "execution_count": 4,
     "metadata": {},
     "output_type": "execute_result"
    }
   ],
   "source": [
    "np.array(my_list)"
   ]
  },
  {
   "cell_type": "code",
   "execution_count": 5,
   "id": "a93e87c0-1b52-4844-a524-bef128cfed1a",
   "metadata": {},
   "outputs": [],
   "source": [
    "arr = np.array(my_list)"
   ]
  },
  {
   "cell_type": "code",
   "execution_count": 6,
   "id": "50d56ac8-dafa-48b8-9f25-c83d417d55df",
   "metadata": {},
   "outputs": [
    {
     "data": {
      "text/plain": [
       "array([1, 2, 3])"
      ]
     },
     "execution_count": 6,
     "metadata": {},
     "output_type": "execute_result"
    }
   ],
   "source": [
    "arr"
   ]
  },
  {
   "cell_type": "code",
   "execution_count": 7,
   "id": "7a0dbd2d-7612-4aad-90a0-17bddb34283c",
   "metadata": {},
   "outputs": [],
   "source": [
    "my_mat = [[1, 2, 3], [4, 5, 6], [7, 8, 9]]"
   ]
  },
  {
   "cell_type": "code",
   "execution_count": 8,
   "id": "fd1605fa-c517-4193-aa0d-3745e9c055b6",
   "metadata": {},
   "outputs": [],
   "source": [
    "mat = np.array(my_mat)"
   ]
  },
  {
   "cell_type": "code",
   "execution_count": 9,
   "id": "a64f299f-a483-4544-ae8f-3119599442b6",
   "metadata": {},
   "outputs": [
    {
     "data": {
      "text/plain": [
       "array([[1, 2, 3],\n",
       "       [4, 5, 6],\n",
       "       [7, 8, 9]])"
      ]
     },
     "execution_count": 9,
     "metadata": {},
     "output_type": "execute_result"
    }
   ],
   "source": [
    "mat"
   ]
  },
  {
   "cell_type": "code",
   "execution_count": 13,
   "id": "7c305fe4-37db-4f13-add7-04e15acad5ad",
   "metadata": {},
   "outputs": [
    {
     "data": {
      "text/plain": [
       "array([0, 1, 2, 3, 4, 5, 6, 7, 8, 9])"
      ]
     },
     "execution_count": 13,
     "metadata": {},
     "output_type": "execute_result"
    }
   ],
   "source": [
    "np.arange(0, 10) "
   ]
  },
  {
   "cell_type": "code",
   "execution_count": 14,
   "id": "c47ccb83-ed85-4f39-b6ad-13b8800f8f79",
   "metadata": {},
   "outputs": [
    {
     "data": {
      "text/plain": [
       "array([0, 2, 4, 6, 8])"
      ]
     },
     "execution_count": 14,
     "metadata": {},
     "output_type": "execute_result"
    }
   ],
   "source": [
    "# with step for even numbers\n",
    "np.arange(0, 10, 2) "
   ]
  },
  {
   "cell_type": "code",
   "execution_count": null,
   "id": "96a87c7a-61e1-45ac-a097-a4ef2ed34046",
   "metadata": {},
   "outputs": [],
   "source": [
    "# Specific types of arrays"
   ]
  },
  {
   "cell_type": "code",
   "execution_count": 15,
   "id": "18b4bae5-c99f-4635-bfe2-3fe46fd0aae8",
   "metadata": {},
   "outputs": [
    {
     "data": {
      "text/plain": [
       "array([0., 0., 0.])"
      ]
     },
     "execution_count": 15,
     "metadata": {},
     "output_type": "execute_result"
    }
   ],
   "source": [
    "# array of all zeros\n",
    "np.zeros(3)"
   ]
  },
  {
   "cell_type": "code",
   "execution_count": 17,
   "id": "bec5b0fc-5c00-40f3-9c9a-7dd54082bb0f",
   "metadata": {},
   "outputs": [
    {
     "data": {
      "text/plain": [
       "array([[0., 0., 0., 0., 0.],\n",
       "       [0., 0., 0., 0., 0.],\n",
       "       [0., 0., 0., 0., 0.]])"
      ]
     },
     "execution_count": 17,
     "metadata": {},
     "output_type": "execute_result"
    }
   ],
   "source": [
    "np.zeros((3, 5))"
   ]
  },
  {
   "cell_type": "code",
   "execution_count": 18,
   "id": "b4418338-85d0-4e3a-9189-17ff368b13a6",
   "metadata": {},
   "outputs": [
    {
     "data": {
      "text/plain": [
       "array([1., 1., 1.])"
      ]
     },
     "execution_count": 18,
     "metadata": {},
     "output_type": "execute_result"
    }
   ],
   "source": [
    "# array of pure ones\n",
    "np.ones(3)"
   ]
  },
  {
   "cell_type": "code",
   "execution_count": 20,
   "id": "f618e59c-5413-4625-92c1-75af95f170d3",
   "metadata": {},
   "outputs": [
    {
     "data": {
      "text/plain": [
       "array([[1., 1., 1., 1.],\n",
       "       [1., 1., 1., 1.],\n",
       "       [1., 1., 1., 1.]])"
      ]
     },
     "execution_count": 20,
     "metadata": {},
     "output_type": "execute_result"
    }
   ],
   "source": [
    "np.ones((3, 4))"
   ]
  },
  {
   "cell_type": "code",
   "execution_count": null,
   "id": "7e73e133-ef90-4a9f-aeea-e6c346723252",
   "metadata": {},
   "outputs": [],
   "source": []
  },
  {
   "cell_type": "code",
   "execution_count": 21,
   "id": "d23e6f68-fe07-4cd9-876a-bcdca9a20880",
   "metadata": {},
   "outputs": [
    {
     "data": {
      "text/plain": [
       "array([ 0.        ,  1.11111111,  2.22222222,  3.33333333,  4.44444444,\n",
       "        5.55555556,  6.66666667,  7.77777778,  8.88888889, 10.        ])"
      ]
     },
     "execution_count": 21,
     "metadata": {},
     "output_type": "execute_result"
    }
   ],
   "source": [
    "# array for evenly spaced values\n",
    "# np.arange(0, 10, step=2)\n",
    "np.linspace(0, 10, num=10)"
   ]
  },
  {
   "cell_type": "code",
   "execution_count": 22,
   "id": "c4c349fc-04d7-4c22-a025-b463fe97731e",
   "metadata": {},
   "outputs": [
    {
     "data": {
      "text/plain": [
       "array([[1., 0., 0., 0., 0.],\n",
       "       [0., 1., 0., 0., 0.],\n",
       "       [0., 0., 1., 0., 0.],\n",
       "       [0., 0., 0., 1., 0.],\n",
       "       [0., 0., 0., 0., 1.]])"
      ]
     },
     "execution_count": 22,
     "metadata": {},
     "output_type": "execute_result"
    }
   ],
   "source": [
    "# create an identify matrix\n",
    "np.eye(5)"
   ]
  },
  {
   "cell_type": "markdown",
   "id": "d18cc4d2-f724-4e21-a9b2-5c2b535f7fff",
   "metadata": {},
   "source": [
    "## random numbers"
   ]
  },
  {
   "cell_type": "code",
   "execution_count": 23,
   "id": "97c1e145-6322-4366-babf-b9637d6895b3",
   "metadata": {},
   "outputs": [
    {
     "data": {
      "text/plain": [
       "array([0.40220233, 0.98167701, 0.90068448, 0.10676175, 0.05786153])"
      ]
     },
     "execution_count": 23,
     "metadata": {},
     "output_type": "execute_result"
    }
   ],
   "source": [
    "# vector\n",
    "np.random.rand(5)"
   ]
  },
  {
   "cell_type": "code",
   "execution_count": 24,
   "id": "79ce836c-0b29-4234-9735-3e238f42f8b5",
   "metadata": {},
   "outputs": [
    {
     "data": {
      "text/plain": [
       "array([[0.9588406 , 0.20741036, 0.23189305, 0.35447419, 0.6781161 ],\n",
       "       [0.28157583, 0.76661027, 0.96411071, 0.25650393, 0.67781338],\n",
       "       [0.07957783, 0.91717471, 0.07822041, 0.18940327, 0.98870748]])"
      ]
     },
     "execution_count": 24,
     "metadata": {},
     "output_type": "execute_result"
    }
   ],
   "source": [
    "# matrix\n",
    "np.random.rand(3, 5)"
   ]
  },
  {
   "cell_type": "code",
   "execution_count": 25,
   "id": "c3989aa0-2ef7-4790-bafa-ff34784572dc",
   "metadata": {},
   "outputs": [
    {
     "data": {
      "text/plain": [
       "array([[[0.16367044, 0.63173139, 0.21423819, 0.24436586],\n",
       "        [0.20345253, 0.29053851, 0.29142248, 0.21147809],\n",
       "        [0.87397515, 0.70887436, 0.83149746, 0.96717654],\n",
       "        [0.33979281, 0.56351743, 0.90411611, 0.18035795],\n",
       "        [0.82366039, 0.44346434, 0.98387364, 0.15220413]],\n",
       "\n",
       "       [[0.9208004 , 0.40996951, 0.59154015, 0.98467589],\n",
       "        [0.18672574, 0.19814612, 0.03088657, 0.33328801],\n",
       "        [0.26072572, 0.48556731, 0.00651578, 0.55006438],\n",
       "        [0.39452043, 0.53518714, 0.06736002, 0.63041914],\n",
       "        [0.23054337, 0.1801138 , 0.13879063, 0.0205678 ]],\n",
       "\n",
       "       [[0.87115407, 0.9049001 , 0.84889639, 0.47561147],\n",
       "        [0.21044605, 0.52384308, 0.41775315, 0.31135046],\n",
       "        [0.73945152, 0.969889  , 0.96338565, 0.36741069],\n",
       "        [0.46740815, 0.80087742, 0.49682113, 0.23263972],\n",
       "        [0.44367898, 0.86941779, 0.49545449, 0.43808528]]])"
      ]
     },
     "execution_count": 25,
     "metadata": {},
     "output_type": "execute_result"
    }
   ],
   "source": [
    "np.random.rand(3, 5, 4)"
   ]
  },
  {
   "cell_type": "code",
   "execution_count": 26,
   "id": "f925f83e-60dc-4afa-8322-0208956a6ccb",
   "metadata": {},
   "outputs": [
    {
     "data": {
      "text/plain": [
       "array([ 0.08255997, -1.54777308,  1.18983959])"
      ]
     },
     "execution_count": 26,
     "metadata": {},
     "output_type": "execute_result"
    }
   ],
   "source": [
    "# samples from the standard normal distribution or a Gaussian distribution\n",
    "np.random.randn(3)"
   ]
  },
  {
   "cell_type": "code",
   "execution_count": 27,
   "id": "46ed0daf-fc68-4ee3-8db3-ddd0907f3ed3",
   "metadata": {},
   "outputs": [
    {
     "data": {
      "text/plain": [
       "array([[ 1.28102444, -1.36520753, -1.39898957],\n",
       "       [ 0.68329166,  1.02709248,  1.07603981],\n",
       "       [-0.98265184,  0.43639884, -0.56869301]])"
      ]
     },
     "execution_count": 27,
     "metadata": {},
     "output_type": "execute_result"
    }
   ],
   "source": [
    "np.random.randn(3, 3)"
   ]
  },
  {
   "cell_type": "code",
   "execution_count": 30,
   "id": "35d97451-5674-4547-8498-e3c3bced0eac",
   "metadata": {},
   "outputs": [
    {
     "data": {
      "text/plain": [
       "array([4, 3, 3], dtype=int32)"
      ]
     },
     "execution_count": 30,
     "metadata": {},
     "output_type": "execute_result"
    }
   ],
   "source": [
    "# random integers\n",
    "np.random.randint(2, high=5, size=3)"
   ]
  },
  {
   "cell_type": "markdown",
   "id": "a06ec3f4-4ca4-4d31-a371-faaf33025452",
   "metadata": {},
   "source": [
    "## useful attributes and methods"
   ]
  },
  {
   "cell_type": "code",
   "execution_count": null,
   "id": "0467e509-1404-49a5-b7db-5588173dc878",
   "metadata": {},
   "outputs": [],
   "source": [
    "# shape of an array"
   ]
  },
  {
   "cell_type": "code",
   "execution_count": null,
   "id": "b543fa82-0ba9-4ed2-8711-65e649692b06",
   "metadata": {},
   "outputs": [],
   "source": []
  },
  {
   "cell_type": "code",
   "execution_count": 44,
   "id": "51ebfc6c-1fe9-40bc-8994-643780b5cd9a",
   "metadata": {},
   "outputs": [],
   "source": [
    "arr = np.arange(25)"
   ]
  },
  {
   "cell_type": "code",
   "execution_count": 45,
   "id": "4feb5c95-7167-4a37-bc03-1c5760cc3c73",
   "metadata": {},
   "outputs": [
    {
     "data": {
      "text/plain": [
       "array([ 0,  1,  2,  3,  4,  5,  6,  7,  8,  9, 10, 11, 12, 13, 14, 15, 16,\n",
       "       17, 18, 19, 20, 21, 22, 23, 24])"
      ]
     },
     "execution_count": 45,
     "metadata": {},
     "output_type": "execute_result"
    }
   ],
   "source": [
    "arr"
   ]
  },
  {
   "cell_type": "code",
   "execution_count": 37,
   "id": "86c7fb18-8a3e-404c-889d-4c30dc143a39",
   "metadata": {},
   "outputs": [],
   "source": [
    "randarr = np.random.randint(0, 100, 10)"
   ]
  },
  {
   "cell_type": "code",
   "execution_count": 38,
   "id": "6d3f98c2-85f5-43e6-adc9-2ce26421124c",
   "metadata": {},
   "outputs": [
    {
     "data": {
      "text/plain": [
       "array([79, 43, 13, 36, 12, 62, 53, 97, 94, 62], dtype=int32)"
      ]
     },
     "execution_count": 38,
     "metadata": {},
     "output_type": "execute_result"
    }
   ],
   "source": [
    "randarr"
   ]
  },
  {
   "cell_type": "code",
   "execution_count": 56,
   "id": "cc5e4f32-b3d1-4ac6-a1fc-23d22de3dba6",
   "metadata": {},
   "outputs": [
    {
     "data": {
      "text/plain": [
       "(25,)"
      ]
     },
     "execution_count": 56,
     "metadata": {},
     "output_type": "execute_result"
    }
   ],
   "source": [
    "arr.shape"
   ]
  },
  {
   "cell_type": "code",
   "execution_count": 57,
   "id": "21e9fdf3-88c3-4596-be20-aa376472c6b6",
   "metadata": {},
   "outputs": [
    {
     "data": {
      "text/plain": [
       "(10,)"
      ]
     },
     "execution_count": 57,
     "metadata": {},
     "output_type": "execute_result"
    }
   ],
   "source": [
    "randarr.shape"
   ]
  },
  {
   "cell_type": "code",
   "execution_count": null,
   "id": "3869a4cb-7718-4bc5-9d8a-c3d386007151",
   "metadata": {},
   "outputs": [],
   "source": []
  },
  {
   "cell_type": "code",
   "execution_count": 46,
   "id": "81d25c8f-47b0-4f4b-9079-582ac3697c5e",
   "metadata": {},
   "outputs": [
    {
     "data": {
      "text/plain": [
       "array([[ 0,  1,  2,  3,  4],\n",
       "       [ 5,  6,  7,  8,  9],\n",
       "       [10, 11, 12, 13, 14],\n",
       "       [15, 16, 17, 18, 19],\n",
       "       [20, 21, 22, 23, 24]])"
      ]
     },
     "execution_count": 46,
     "metadata": {},
     "output_type": "execute_result"
    }
   ],
   "source": [
    "# reshaping\n",
    "arr.reshape(5, 5)"
   ]
  },
  {
   "cell_type": "code",
   "execution_count": 58,
   "id": "8f07a6c5-87e6-4503-af48-5630a36d0ca8",
   "metadata": {},
   "outputs": [],
   "source": [
    "arr = arr.reshape(5, 5)"
   ]
  },
  {
   "cell_type": "code",
   "execution_count": 59,
   "id": "1a36b7c2-f918-40dd-8d42-141884fed8e7",
   "metadata": {},
   "outputs": [
    {
     "data": {
      "text/plain": [
       "array([[ 0,  1,  2,  3,  4],\n",
       "       [ 5,  6,  7,  8,  9],\n",
       "       [10, 11, 12, 13, 14],\n",
       "       [15, 16, 17, 18, 19],\n",
       "       [20, 21, 22, 23, 24]])"
      ]
     },
     "execution_count": 59,
     "metadata": {},
     "output_type": "execute_result"
    }
   ],
   "source": [
    "arr"
   ]
  },
  {
   "cell_type": "code",
   "execution_count": 60,
   "id": "75969eb9-37ba-495a-902c-6c7883858695",
   "metadata": {},
   "outputs": [
    {
     "data": {
      "text/plain": [
       "(5, 5)"
      ]
     },
     "execution_count": 60,
     "metadata": {},
     "output_type": "execute_result"
    }
   ],
   "source": [
    "arr.shape"
   ]
  },
  {
   "cell_type": "code",
   "execution_count": null,
   "id": "e43e1752-1f1c-4474-9acc-a07094d8bc00",
   "metadata": {},
   "outputs": [],
   "source": [
    "# what is the result of this line of code\n",
    "arr.reshape(5, 6)"
   ]
  },
  {
   "cell_type": "code",
   "execution_count": 47,
   "id": "c69afeb1-f26c-4542-8ef4-710ad70e9acd",
   "metadata": {},
   "outputs": [],
   "source": [
    "# finding max and min values"
   ]
  },
  {
   "cell_type": "code",
   "execution_count": 48,
   "id": "d93e8cd5-b69c-460a-adab-5a1f0b62569f",
   "metadata": {},
   "outputs": [
    {
     "data": {
      "text/plain": [
       "array([79, 43, 13, 36, 12, 62, 53, 97, 94, 62], dtype=int32)"
      ]
     },
     "execution_count": 48,
     "metadata": {},
     "output_type": "execute_result"
    }
   ],
   "source": [
    "randarr"
   ]
  },
  {
   "cell_type": "code",
   "execution_count": 49,
   "id": "04aca33f-932e-4855-a67e-ab956e931f21",
   "metadata": {},
   "outputs": [
    {
     "data": {
      "text/plain": [
       "np.int32(97)"
      ]
     },
     "execution_count": 49,
     "metadata": {},
     "output_type": "execute_result"
    }
   ],
   "source": [
    "randarr.max()"
   ]
  },
  {
   "cell_type": "code",
   "execution_count": 50,
   "id": "141fc32a-3135-4599-a9e3-b42a366a1752",
   "metadata": {},
   "outputs": [
    {
     "data": {
      "text/plain": [
       "np.int32(12)"
      ]
     },
     "execution_count": 50,
     "metadata": {},
     "output_type": "execute_result"
    }
   ],
   "source": [
    "randarr.min()"
   ]
  },
  {
   "cell_type": "code",
   "execution_count": null,
   "id": "bba86e0b-d6e7-4e27-b997-abffdd49d0c7",
   "metadata": {},
   "outputs": [],
   "source": [
    "# location of max and min values"
   ]
  },
  {
   "cell_type": "code",
   "execution_count": 51,
   "id": "ab0e8908-a5b3-4ce7-abdf-0b4d54b5671c",
   "metadata": {},
   "outputs": [
    {
     "data": {
      "text/plain": [
       "np.int64(7)"
      ]
     },
     "execution_count": 51,
     "metadata": {},
     "output_type": "execute_result"
    }
   ],
   "source": [
    "randarr.argmax()"
   ]
  },
  {
   "cell_type": "code",
   "execution_count": 52,
   "id": "da2eda28-23d4-440f-abde-a42ffcd29d93",
   "metadata": {},
   "outputs": [
    {
     "data": {
      "text/plain": [
       "np.int64(4)"
      ]
     },
     "execution_count": 52,
     "metadata": {},
     "output_type": "execute_result"
    }
   ],
   "source": [
    "randarr.argmin()"
   ]
  },
  {
   "cell_type": "code",
   "execution_count": 55,
   "id": "17e229ad-576b-46b6-95c0-38571d3b0ed3",
   "metadata": {},
   "outputs": [
    {
     "name": "stdout",
     "output_type": "stream",
     "text": [
      "The largest number 97 is located at index 7\n"
     ]
    }
   ],
   "source": [
    "print(f\"The largest number {randarr.max()} is located at index {randarr.argmax()}\")"
   ]
  },
  {
   "cell_type": "code",
   "execution_count": 54,
   "id": "1e31b296-dc42-413a-b20b-514fac1f72a8",
   "metadata": {},
   "outputs": [
    {
     "name": "stdout",
     "output_type": "stream",
     "text": [
      "The smallest number 12 is located at index 4\n"
     ]
    }
   ],
   "source": [
    "print(f\"The smallest number {randarr.min()} is located at index {randarr.argmin()}\")"
   ]
  },
  {
   "cell_type": "code",
   "execution_count": null,
   "id": "2d096132-0b94-4f5b-8a33-342d10744f5b",
   "metadata": {},
   "outputs": [],
   "source": []
  },
  {
   "cell_type": "code",
   "execution_count": 62,
   "id": "44ed0885-7f3c-41a7-9ebd-274835516fdc",
   "metadata": {},
   "outputs": [],
   "source": [
    "# data types of arrays"
   ]
  },
  {
   "cell_type": "code",
   "execution_count": 63,
   "id": "8611288e-2dc8-4090-8c11-c1910152fffe",
   "metadata": {},
   "outputs": [
    {
     "data": {
      "text/plain": [
       "dtype('int64')"
      ]
     },
     "execution_count": 63,
     "metadata": {},
     "output_type": "execute_result"
    }
   ],
   "source": [
    "arr.dtype"
   ]
  },
  {
   "cell_type": "code",
   "execution_count": 64,
   "id": "1c76f46c-6f48-4239-9db6-2667f8e04cac",
   "metadata": {},
   "outputs": [
    {
     "data": {
      "text/plain": [
       "dtype('int32')"
      ]
     },
     "execution_count": 64,
     "metadata": {},
     "output_type": "execute_result"
    }
   ],
   "source": [
    "randarr.dtype"
   ]
  },
  {
   "cell_type": "code",
   "execution_count": 65,
   "id": "181bb629-3a50-467d-ad00-725be2ed8b56",
   "metadata": {},
   "outputs": [
    {
     "data": {
      "text/plain": [
       "array([[ 0.,  1.,  2.,  3.,  4.],\n",
       "       [ 5.,  6.,  7.,  8.,  9.],\n",
       "       [10., 11., 12., 13., 14.],\n",
       "       [15., 16., 17., 18., 19.],\n",
       "       [20., 21., 22., 23., 24.]])"
      ]
     },
     "execution_count": 65,
     "metadata": {},
     "output_type": "execute_result"
    }
   ],
   "source": [
    "# change the data type\n",
    "arr.astype(\"float64\")"
   ]
  },
  {
   "cell_type": "code",
   "execution_count": 68,
   "id": "99ce53a3-c495-4b58-ba22-5d815281740a",
   "metadata": {},
   "outputs": [
    {
     "data": {
      "text/plain": [
       "array([79, 43, 13, 36, 12, 62, 53, 97, 94, 62])"
      ]
     },
     "execution_count": 68,
     "metadata": {},
     "output_type": "execute_result"
    }
   ],
   "source": [
    "randarr.astype(\"int64\")"
   ]
  },
  {
   "cell_type": "code",
   "execution_count": null,
   "id": "917609ee-75dd-4654-a0c9-294ea5020cb3",
   "metadata": {},
   "outputs": [],
   "source": []
  },
  {
   "cell_type": "markdown",
   "id": "bdde952a-992b-4ec2-92c8-020a6fdec3bb",
   "metadata": {},
   "source": [
    "# Numpy indexing and selection"
   ]
  },
  {
   "cell_type": "code",
   "execution_count": 70,
   "id": "b8f7b730-c482-43ff-8a90-3f57af04ee02",
   "metadata": {},
   "outputs": [],
   "source": [
    "arr = np.arange(0, 11)"
   ]
  },
  {
   "cell_type": "code",
   "execution_count": 71,
   "id": "3a6bc051-47eb-4462-9860-12af38ebc14d",
   "metadata": {},
   "outputs": [
    {
     "data": {
      "text/plain": [
       "array([ 0,  1,  2,  3,  4,  5,  6,  7,  8,  9, 10])"
      ]
     },
     "execution_count": 71,
     "metadata": {},
     "output_type": "execute_result"
    }
   ],
   "source": [
    "arr"
   ]
  },
  {
   "cell_type": "code",
   "execution_count": 72,
   "id": "26a4eb89-6853-409d-8d84-8730d9cfd4e9",
   "metadata": {},
   "outputs": [
    {
     "data": {
      "text/plain": [
       "np.int64(4)"
      ]
     },
     "execution_count": 72,
     "metadata": {},
     "output_type": "execute_result"
    }
   ],
   "source": [
    "# pick out one element\n",
    "arr[4]"
   ]
  },
  {
   "cell_type": "code",
   "execution_count": 73,
   "id": "707a9887-ce32-4673-9bc3-23956686c040",
   "metadata": {},
   "outputs": [
    {
     "data": {
      "text/plain": [
       "array([1, 2, 3, 4])"
      ]
     },
     "execution_count": 73,
     "metadata": {},
     "output_type": "execute_result"
    }
   ],
   "source": [
    "# values in a range, \":\" clicing notation\n",
    "arr[1:5]"
   ]
  },
  {
   "cell_type": "code",
   "execution_count": 74,
   "id": "de9a5bc5-77f3-4a19-8910-783b86d4c97e",
   "metadata": {},
   "outputs": [
    {
     "data": {
      "text/plain": [
       "array([0, 1, 2, 3, 4])"
      ]
     },
     "execution_count": 74,
     "metadata": {},
     "output_type": "execute_result"
    }
   ],
   "source": [
    "arr[0:5]"
   ]
  },
  {
   "cell_type": "code",
   "execution_count": 75,
   "id": "0136cad0-9b21-40c4-895a-005dbb783530",
   "metadata": {},
   "outputs": [
    {
     "data": {
      "text/plain": [
       "array([0, 1, 2, 3, 4])"
      ]
     },
     "execution_count": 75,
     "metadata": {},
     "output_type": "execute_result"
    }
   ],
   "source": [
    "# remove the start point and end point\n",
    "arr[:5]"
   ]
  },
  {
   "cell_type": "code",
   "execution_count": 76,
   "id": "ba7fe9d9-7c6e-46ae-95a6-0acbf828bca7",
   "metadata": {},
   "outputs": [
    {
     "data": {
      "text/plain": [
       "array([ 5,  6,  7,  8,  9, 10])"
      ]
     },
     "execution_count": 76,
     "metadata": {},
     "output_type": "execute_result"
    }
   ],
   "source": [
    "arr[5:]"
   ]
  },
  {
   "cell_type": "code",
   "execution_count": 77,
   "id": "02c733aa-990e-4f03-b16a-17a5b4072d73",
   "metadata": {},
   "outputs": [],
   "source": [
    "# Numpy arrays differ from normal python list because of the ability of broadcast"
   ]
  },
  {
   "cell_type": "code",
   "execution_count": 78,
   "id": "7e4e30a8-1af8-43a9-9b2b-376a0f30bd36",
   "metadata": {},
   "outputs": [],
   "source": [
    "# broadcast a value 100 to the first 5 elements in the array\n",
    "arr[0:5] = 100"
   ]
  },
  {
   "cell_type": "code",
   "execution_count": 79,
   "id": "5c05921d-9536-4b57-91e1-66c47a4ea157",
   "metadata": {},
   "outputs": [
    {
     "data": {
      "text/plain": [
       "array([100, 100, 100, 100, 100,   5,   6,   7,   8,   9,  10])"
      ]
     },
     "execution_count": 79,
     "metadata": {},
     "output_type": "execute_result"
    }
   ],
   "source": [
    "arr"
   ]
  },
  {
   "cell_type": "code",
   "execution_count": 80,
   "id": "23c03eb1-504c-40bc-af1f-d209eb450de9",
   "metadata": {},
   "outputs": [],
   "source": [
    "# reset the array\n",
    "arr = np.arange(0, 11)"
   ]
  },
  {
   "cell_type": "code",
   "execution_count": 81,
   "id": "7c2a9595-0ee7-456e-ac42-e86ece5b162a",
   "metadata": {},
   "outputs": [
    {
     "data": {
      "text/plain": [
       "array([ 0,  1,  2,  3,  4,  5,  6,  7,  8,  9, 10])"
      ]
     },
     "execution_count": 81,
     "metadata": {},
     "output_type": "execute_result"
    }
   ],
   "source": [
    "arr"
   ]
  },
  {
   "cell_type": "code",
   "execution_count": 87,
   "id": "e423089f-35b7-415d-a374-8a6fc324c2c9",
   "metadata": {},
   "outputs": [],
   "source": [
    "# important attribute of slicing the array\n",
    "slice_of_arr = arr[0:5]"
   ]
  },
  {
   "cell_type": "code",
   "execution_count": 88,
   "id": "e733a951-93f7-4a60-94d8-0196ce65f6fb",
   "metadata": {},
   "outputs": [
    {
     "data": {
      "text/plain": [
       "array([0, 1, 2, 3, 4])"
      ]
     },
     "execution_count": 88,
     "metadata": {},
     "output_type": "execute_result"
    }
   ],
   "source": [
    "slice_of_arr"
   ]
  },
  {
   "cell_type": "code",
   "execution_count": 89,
   "id": "05e6d290-bbde-428b-be59-096c243eba95",
   "metadata": {},
   "outputs": [],
   "source": [
    "# broadcast on this slice of array\n",
    "slice_of_arr[:] = 99"
   ]
  },
  {
   "cell_type": "code",
   "execution_count": 86,
   "id": "d9101d11-e553-4f19-979c-e6adf7463696",
   "metadata": {},
   "outputs": [
    {
     "data": {
      "text/plain": [
       "99"
      ]
     },
     "execution_count": 86,
     "metadata": {},
     "output_type": "execute_result"
    }
   ],
   "source": [
    "slice_of_arr"
   ]
  },
  {
   "cell_type": "code",
   "execution_count": 91,
   "id": "21a20c04-a18a-4f82-87bd-64a6f99c57a5",
   "metadata": {},
   "outputs": [
    {
     "data": {
      "text/plain": [
       "array([99, 99, 99, 99, 99,  5,  6,  7,  8,  9, 10])"
      ]
     },
     "execution_count": 91,
     "metadata": {},
     "output_type": "execute_result"
    }
   ],
   "source": [
    "# the change to the slice also happens to the original array\n",
    "arr"
   ]
  },
  {
   "cell_type": "code",
   "execution_count": 92,
   "id": "9ab1cb1d-7d54-470c-85e8-0853cda57124",
   "metadata": {},
   "outputs": [],
   "source": [
    "# a copy of the array"
   ]
  },
  {
   "cell_type": "code",
   "execution_count": 93,
   "id": "02a8648f-ceba-4227-afe5-3824130ee71f",
   "metadata": {},
   "outputs": [],
   "source": [
    "arr_copy = arr.copy()"
   ]
  },
  {
   "cell_type": "code",
   "execution_count": 94,
   "id": "c3092d22-823a-4f13-9f7c-4d8fa5da4f23",
   "metadata": {},
   "outputs": [
    {
     "data": {
      "text/plain": [
       "array([99, 99, 99, 99, 99,  5,  6,  7,  8,  9, 10])"
      ]
     },
     "execution_count": 94,
     "metadata": {},
     "output_type": "execute_result"
    }
   ],
   "source": [
    "arr"
   ]
  },
  {
   "cell_type": "code",
   "execution_count": 95,
   "id": "3c2a5244-0999-4c13-aa0b-c0ad48d12f9f",
   "metadata": {},
   "outputs": [
    {
     "data": {
      "text/plain": [
       "array([99, 99, 99, 99, 99,  5,  6,  7,  8,  9, 10])"
      ]
     },
     "execution_count": 95,
     "metadata": {},
     "output_type": "execute_result"
    }
   ],
   "source": [
    "arr_copy"
   ]
  },
  {
   "cell_type": "code",
   "execution_count": 96,
   "id": "c91a58f5-b15a-40aa-88e3-9dd69600703b",
   "metadata": {},
   "outputs": [],
   "source": [
    "arr_copy[:] = 100"
   ]
  },
  {
   "cell_type": "code",
   "execution_count": 97,
   "id": "2dcd9abb-873f-4a24-9be8-96edecb2f9a3",
   "metadata": {},
   "outputs": [
    {
     "data": {
      "text/plain": [
       "array([100, 100, 100, 100, 100, 100, 100, 100, 100, 100, 100])"
      ]
     },
     "execution_count": 97,
     "metadata": {},
     "output_type": "execute_result"
    }
   ],
   "source": [
    "arr_copy"
   ]
  },
  {
   "cell_type": "code",
   "execution_count": 98,
   "id": "07c68f2a-00ec-46cc-a4bd-459831e3eae8",
   "metadata": {},
   "outputs": [
    {
     "data": {
      "text/plain": [
       "array([99, 99, 99, 99, 99,  5,  6,  7,  8,  9, 10])"
      ]
     },
     "execution_count": 98,
     "metadata": {},
     "output_type": "execute_result"
    }
   ],
   "source": [
    "arr"
   ]
  },
  {
   "cell_type": "code",
   "execution_count": null,
   "id": "adf83fcc-9ede-4743-9cfc-0e3c8a825ebc",
   "metadata": {},
   "outputs": [],
   "source": []
  },
  {
   "cell_type": "markdown",
   "id": "7b833286-5d97-4a30-8fd7-fd50591fcc9a",
   "metadata": {},
   "source": [
    "## indexing on 2-d arrays"
   ]
  },
  {
   "cell_type": "code",
   "execution_count": 99,
   "id": "347ce933-760f-4e61-bddd-c85c297de0f9",
   "metadata": {},
   "outputs": [],
   "source": [
    "arr_2d = np.array([[1, 2, 3],[11, 22, 33], [111, 222, 333]])"
   ]
  },
  {
   "cell_type": "code",
   "execution_count": 100,
   "id": "cd2045cd-cef1-45d5-ad11-82fecb9170bb",
   "metadata": {},
   "outputs": [
    {
     "data": {
      "text/plain": [
       "array([[  1,   2,   3],\n",
       "       [ 11,  22,  33],\n",
       "       [111, 222, 333]])"
      ]
     },
     "execution_count": 100,
     "metadata": {},
     "output_type": "execute_result"
    }
   ],
   "source": [
    "arr_2d"
   ]
  },
  {
   "cell_type": "code",
   "execution_count": 101,
   "id": "eedd0e52-062f-4393-9990-1d488044dd37",
   "metadata": {},
   "outputs": [],
   "source": [
    "# two general format to slice 2-d arrays\n",
    "# double bracket [][]\n",
    "# single bracket [,], recommended"
   ]
  },
  {
   "cell_type": "code",
   "execution_count": 102,
   "id": "0e70c316-3b98-4304-841e-145853431dfc",
   "metadata": {},
   "outputs": [
    {
     "data": {
      "text/plain": [
       "np.int64(1)"
      ]
     },
     "execution_count": 102,
     "metadata": {},
     "output_type": "execute_result"
    }
   ],
   "source": [
    "# double bracket [][]\n",
    "arr_2d[0][0]"
   ]
  },
  {
   "cell_type": "code",
   "execution_count": 103,
   "id": "a6caaac7-489c-4ff6-838b-0b32f275bcb5",
   "metadata": {},
   "outputs": [
    {
     "data": {
      "text/plain": [
       "array([1, 2, 3])"
      ]
     },
     "execution_count": 103,
     "metadata": {},
     "output_type": "execute_result"
    }
   ],
   "source": [
    "arr_2d[0]"
   ]
  },
  {
   "cell_type": "code",
   "execution_count": 104,
   "id": "0b27e65d-116f-450a-9500-43e5c680d262",
   "metadata": {},
   "outputs": [
    {
     "data": {
      "text/plain": [
       "np.int64(1)"
      ]
     },
     "execution_count": 104,
     "metadata": {},
     "output_type": "execute_result"
    }
   ],
   "source": [
    "arr_2d[0][0]"
   ]
  },
  {
   "cell_type": "code",
   "execution_count": 105,
   "id": "0ff9e03c-d618-4395-aaa1-77941b5284ad",
   "metadata": {},
   "outputs": [
    {
     "data": {
      "text/plain": [
       "np.int64(22)"
      ]
     },
     "execution_count": 105,
     "metadata": {},
     "output_type": "execute_result"
    }
   ],
   "source": [
    "arr_2d[1][1]"
   ]
  },
  {
   "cell_type": "code",
   "execution_count": 106,
   "id": "00296409-a4ed-4f13-96f7-734cd76d44f2",
   "metadata": {},
   "outputs": [
    {
     "data": {
      "text/plain": [
       "np.int64(222)"
      ]
     },
     "execution_count": 106,
     "metadata": {},
     "output_type": "execute_result"
    }
   ],
   "source": [
    "arr_2d[2][1]"
   ]
  },
  {
   "cell_type": "code",
   "execution_count": 108,
   "id": "fa997c8f-2e9e-4c34-8531-194631b0775a",
   "metadata": {},
   "outputs": [
    {
     "data": {
      "text/plain": [
       "array([[  1,   2,   3],\n",
       "       [ 11,  22,  33],\n",
       "       [111, 222, 333]])"
      ]
     },
     "execution_count": 108,
     "metadata": {},
     "output_type": "execute_result"
    }
   ],
   "source": [
    "arr_2d"
   ]
  },
  {
   "cell_type": "code",
   "execution_count": 107,
   "id": "6f835d22-92e6-479b-ac13-d1e37c7fac2c",
   "metadata": {},
   "outputs": [
    {
     "data": {
      "text/plain": [
       "np.int64(1)"
      ]
     },
     "execution_count": 107,
     "metadata": {},
     "output_type": "execute_result"
    }
   ],
   "source": [
    "# single bracket [,], recommended\n",
    "arr_2d[0, 0]"
   ]
  },
  {
   "cell_type": "code",
   "execution_count": 109,
   "id": "e7d974c6-6d04-400f-a82e-515ccbf21d42",
   "metadata": {},
   "outputs": [
    {
     "data": {
      "text/plain": [
       "np.int64(33)"
      ]
     },
     "execution_count": 109,
     "metadata": {},
     "output_type": "execute_result"
    }
   ],
   "source": [
    "# 33\n",
    "arr_2d[1, 2]"
   ]
  },
  {
   "cell_type": "code",
   "execution_count": 112,
   "id": "e79d4953-d53f-461d-ad5b-58102365183e",
   "metadata": {},
   "outputs": [
    {
     "data": {
      "text/plain": [
       "array([[ 2,  3],\n",
       "       [22, 33]])"
      ]
     },
     "execution_count": 112,
     "metadata": {},
     "output_type": "execute_result"
    }
   ],
   "source": [
    "# specific chunks of an array, sub-matrix or sub-array\n",
    "# array([[  2,   3],\n",
    "#        [ 22,  33]])\n",
    "arr_2d[:2,1:]"
   ]
  },
  {
   "cell_type": "code",
   "execution_count": 113,
   "id": "c635df98-3385-4b59-878a-f352bade913c",
   "metadata": {},
   "outputs": [
    {
     "data": {
      "text/plain": [
       "array([[ 11,  22],\n",
       "       [111, 222]])"
      ]
     },
     "execution_count": 113,
     "metadata": {},
     "output_type": "execute_result"
    }
   ],
   "source": [
    "# array([[ 11,  22],\n",
    "#        [111, 222]])\n",
    "arr_2d[1:,:2]"
   ]
  },
  {
   "cell_type": "code",
   "execution_count": 114,
   "id": "26a19702-3a2f-4280-95e0-1f441d29ae4b",
   "metadata": {},
   "outputs": [
    {
     "data": {
      "text/plain": [
       "array([[ 11,  22,  33],\n",
       "       [111, 222, 333]])"
      ]
     },
     "execution_count": 114,
     "metadata": {},
     "output_type": "execute_result"
    }
   ],
   "source": [
    "arr_2d[1:]"
   ]
  },
  {
   "cell_type": "code",
   "execution_count": 116,
   "id": "f89cc02d-f60b-4c86-96de-b05b09ac83dd",
   "metadata": {},
   "outputs": [
    {
     "data": {
      "text/plain": [
       "array([[ 11,  22,  33],\n",
       "       [111, 222, 333]])"
      ]
     },
     "execution_count": 116,
     "metadata": {},
     "output_type": "execute_result"
    }
   ],
   "source": [
    "# no double bracket format\n",
    "arr_2d[1:][:2]"
   ]
  },
  {
   "cell_type": "code",
   "execution_count": 117,
   "id": "cf6e26de-1a1b-46f8-8c6b-7ba8de809d9a",
   "metadata": {},
   "outputs": [
    {
     "data": {
      "text/plain": [
       "array([[ 11,  22],\n",
       "       [111, 222]])"
      ]
     },
     "execution_count": 117,
     "metadata": {},
     "output_type": "execute_result"
    }
   ],
   "source": [
    "arr_2d[1:,:2]"
   ]
  },
  {
   "cell_type": "code",
   "execution_count": null,
   "id": "f2949648-c727-48b6-ae34-c696adbce736",
   "metadata": {},
   "outputs": [],
   "source": []
  },
  {
   "cell_type": "markdown",
   "id": "401a97f4-bdb6-4ca4-832f-a69ca561775c",
   "metadata": {},
   "source": [
    "# conditional selection"
   ]
  },
  {
   "cell_type": "code",
   "execution_count": 121,
   "id": "8b7092da-7327-4c8c-9ccf-821a9fa4c309",
   "metadata": {},
   "outputs": [],
   "source": [
    "arr = np.arange(1, 11)"
   ]
  },
  {
   "cell_type": "code",
   "execution_count": 122,
   "id": "337d604d-8aba-44c1-8ae6-5bbfaa2e1cd6",
   "metadata": {},
   "outputs": [
    {
     "data": {
      "text/plain": [
       "array([ 1,  2,  3,  4,  5,  6,  7,  8,  9, 10])"
      ]
     },
     "execution_count": 122,
     "metadata": {},
     "output_type": "execute_result"
    }
   ],
   "source": [
    "arr"
   ]
  },
  {
   "cell_type": "code",
   "execution_count": 124,
   "id": "482979c7-ef06-4065-b652-239492873624",
   "metadata": {},
   "outputs": [
    {
     "data": {
      "text/plain": [
       "array([False, False, False, False, False, False, False,  True,  True,\n",
       "        True])"
      ]
     },
     "execution_count": 124,
     "metadata": {},
     "output_type": "execute_result"
    }
   ],
   "source": [
    "# get a full boolean array out of this array\n",
    "# compare it with a single digit\n",
    "arr > 7"
   ]
  },
  {
   "cell_type": "code",
   "execution_count": 125,
   "id": "eba002e8-6613-4c9c-96ac-e0b1d71316c8",
   "metadata": {},
   "outputs": [],
   "source": [
    "bool_arr = arr > 7"
   ]
  },
  {
   "cell_type": "code",
   "execution_count": 126,
   "id": "c8ad5d07-43b2-4dcf-8cb5-d4a6bd40c7bd",
   "metadata": {},
   "outputs": [
    {
     "data": {
      "text/plain": [
       "array([False, False, False, False, False, False, False,  True,  True,\n",
       "        True])"
      ]
     },
     "execution_count": 126,
     "metadata": {},
     "output_type": "execute_result"
    }
   ],
   "source": [
    "bool_arr"
   ]
  },
  {
   "cell_type": "code",
   "execution_count": 127,
   "id": "2f644cad-bd9a-4fb8-b9c2-0d54e2d51fe8",
   "metadata": {},
   "outputs": [
    {
     "data": {
      "text/plain": [
       "dtype('bool')"
      ]
     },
     "execution_count": 127,
     "metadata": {},
     "output_type": "execute_result"
    }
   ],
   "source": [
    "bool_arr.dtype"
   ]
  },
  {
   "cell_type": "code",
   "execution_count": 128,
   "id": "78f5136d-34da-4be3-8656-5c8ae4002517",
   "metadata": {},
   "outputs": [],
   "source": [
    "# boolean array can be used to do conditional selection."
   ]
  },
  {
   "cell_type": "code",
   "execution_count": 130,
   "id": "55a1a5f5-eccd-4dfb-99ce-dd5c7164566a",
   "metadata": {},
   "outputs": [
    {
     "data": {
      "text/plain": [
       "array([ 8,  9, 10])"
      ]
     },
     "execution_count": 130,
     "metadata": {},
     "output_type": "execute_result"
    }
   ],
   "source": [
    "arr[bool_arr]"
   ]
  },
  {
   "cell_type": "code",
   "execution_count": 131,
   "id": "542edafa-42e9-4af6-82d2-c02e5aede722",
   "metadata": {},
   "outputs": [
    {
     "data": {
      "text/plain": [
       "array([ 8,  9, 10])"
      ]
     },
     "execution_count": 131,
     "metadata": {},
     "output_type": "execute_result"
    }
   ],
   "source": [
    "arr[arr > 7]"
   ]
  },
  {
   "cell_type": "code",
   "execution_count": 132,
   "id": "71403547-13e0-4244-99ce-f6913b00f1e8",
   "metadata": {},
   "outputs": [
    {
     "data": {
      "text/plain": [
       "array([1, 2])"
      ]
     },
     "execution_count": 132,
     "metadata": {},
     "output_type": "execute_result"
    }
   ],
   "source": [
    "# all elements less than 3\n",
    "arr[arr < 3]"
   ]
  },
  {
   "cell_type": "markdown",
   "id": "da032cc8-c0e0-4fb0-9fc8-70a397ec83d2",
   "metadata": {},
   "source": [
    "# Numpy operations\n",
    "## - Array with array\n",
    "## - Array with scalars\n",
    "## - Universal Array Functions (https://numpy.org/doc/stable/user/basics.ufuncs.html)"
   ]
  },
  {
   "cell_type": "code",
   "execution_count": 135,
   "id": "2c392cd3-34e5-4719-9220-2cfa4442165d",
   "metadata": {},
   "outputs": [],
   "source": [
    "arr = np.arange(0, 11)"
   ]
  },
  {
   "cell_type": "code",
   "execution_count": 136,
   "id": "e07ff63f-7d15-4b33-b176-475d0eacfcd0",
   "metadata": {},
   "outputs": [
    {
     "data": {
      "text/plain": [
       "array([ 0,  1,  2,  3,  4,  5,  6,  7,  8,  9, 10])"
      ]
     },
     "execution_count": 136,
     "metadata": {},
     "output_type": "execute_result"
    }
   ],
   "source": [
    "arr"
   ]
  },
  {
   "cell_type": "code",
   "execution_count": 137,
   "id": "fa3f61d0-d614-462e-9944-86bb2ad406d4",
   "metadata": {},
   "outputs": [
    {
     "data": {
      "text/plain": [
       "array([ 0,  2,  4,  6,  8, 10, 12, 14, 16, 18, 20])"
      ]
     },
     "execution_count": 137,
     "metadata": {},
     "output_type": "execute_result"
    }
   ],
   "source": [
    "# addition\n",
    "arr + arr"
   ]
  },
  {
   "cell_type": "code",
   "execution_count": 138,
   "id": "6664c8e4-cb8c-4a7d-bb5a-a57b5f9d3736",
   "metadata": {},
   "outputs": [
    {
     "data": {
      "text/plain": [
       "array([0, 0, 0, 0, 0, 0, 0, 0, 0, 0, 0])"
      ]
     },
     "execution_count": 138,
     "metadata": {},
     "output_type": "execute_result"
    }
   ],
   "source": [
    "# subtraction\n",
    "arr - arr"
   ]
  },
  {
   "cell_type": "code",
   "execution_count": 139,
   "id": "5ca38d24-25b8-4475-ac95-0632e6c90a4b",
   "metadata": {},
   "outputs": [
    {
     "data": {
      "text/plain": [
       "array([  0,   1,   4,   9,  16,  25,  36,  49,  64,  81, 100])"
      ]
     },
     "execution_count": 139,
     "metadata": {},
     "output_type": "execute_result"
    }
   ],
   "source": [
    "# multiplication (element-wise multiplication)\n",
    "arr * arr"
   ]
  },
  {
   "cell_type": "code",
   "execution_count": 140,
   "id": "e5c8c28c-d1f5-4e0a-b3db-dc69df7c2023",
   "metadata": {},
   "outputs": [
    {
     "data": {
      "text/plain": [
       "array([100, 101, 102, 103, 104, 105, 106, 107, 108, 109, 110])"
      ]
     },
     "execution_count": 140,
     "metadata": {},
     "output_type": "execute_result"
    }
   ],
   "source": [
    "# with scalars (element-wise)\n",
    "arr + 100"
   ]
  },
  {
   "cell_type": "code",
   "execution_count": 141,
   "id": "3bc45b8f-1b83-459c-9fa7-b12296e379c1",
   "metadata": {},
   "outputs": [
    {
     "data": {
      "text/plain": [
       "array([   0,  100,  200,  300,  400,  500,  600,  700,  800,  900, 1000])"
      ]
     },
     "execution_count": 141,
     "metadata": {},
     "output_type": "execute_result"
    }
   ],
   "source": [
    "arr * 100"
   ]
  },
  {
   "cell_type": "code",
   "execution_count": 142,
   "id": "4c85f9a5-0f50-4641-9a00-b6e348b91273",
   "metadata": {},
   "outputs": [
    {
     "data": {
      "text/plain": [
       "array([-100,  -99,  -98,  -97,  -96,  -95,  -94,  -93,  -92,  -91,  -90])"
      ]
     },
     "execution_count": 142,
     "metadata": {},
     "output_type": "execute_result"
    }
   ],
   "source": [
    "arr - 100"
   ]
  },
  {
   "cell_type": "code",
   "execution_count": 143,
   "id": "329d6b8c-19e3-47b6-b1a4-1855f51fff4d",
   "metadata": {},
   "outputs": [
    {
     "ename": "ZeroDivisionError",
     "evalue": "division by zero",
     "output_type": "error",
     "traceback": [
      "\u001b[1;31m---------------------------------------------------------------------------\u001b[0m",
      "\u001b[1;31mZeroDivisionError\u001b[0m                         Traceback (most recent call last)",
      "Cell \u001b[1;32mIn[143], line 2\u001b[0m\n\u001b[0;32m      1\u001b[0m \u001b[38;5;66;03m# division\u001b[39;00m\n\u001b[1;32m----> 2\u001b[0m \u001b[38;5;241;43m1\u001b[39;49m\u001b[43m \u001b[49m\u001b[38;5;241;43m/\u001b[39;49m\u001b[43m \u001b[49m\u001b[38;5;241;43m0\u001b[39;49m\n",
      "\u001b[1;31mZeroDivisionError\u001b[0m: division by zero"
     ]
    }
   ],
   "source": [
    "# division, pure python vs numpy\n",
    "1 / 0"
   ]
  },
  {
   "cell_type": "code",
   "execution_count": 144,
   "id": "89ec6eb4-5513-4d9a-8269-a92032afe76e",
   "metadata": {},
   "outputs": [
    {
     "name": "stderr",
     "output_type": "stream",
     "text": [
      "C:\\Users\\wagu0\\AppData\\Local\\Temp\\ipykernel_5480\\3001117470.py:1: RuntimeWarning: invalid value encountered in divide\n",
      "  arr / arr\n"
     ]
    },
    {
     "data": {
      "text/plain": [
       "array([nan,  1.,  1.,  1.,  1.,  1.,  1.,  1.,  1.,  1.,  1.])"
      ]
     },
     "execution_count": 144,
     "metadata": {},
     "output_type": "execute_result"
    }
   ],
   "source": [
    "arr / arr"
   ]
  },
  {
   "cell_type": "code",
   "execution_count": 145,
   "id": "c5e8b46d-f302-4188-afa3-e90d41ceeabf",
   "metadata": {},
   "outputs": [
    {
     "name": "stderr",
     "output_type": "stream",
     "text": [
      "C:\\Users\\wagu0\\AppData\\Local\\Temp\\ipykernel_5480\\1528351372.py:1: RuntimeWarning: divide by zero encountered in divide\n",
      "  1 / arr\n"
     ]
    },
    {
     "data": {
      "text/plain": [
       "array([       inf, 1.        , 0.5       , 0.33333333, 0.25      ,\n",
       "       0.2       , 0.16666667, 0.14285714, 0.125     , 0.11111111,\n",
       "       0.1       ])"
      ]
     },
     "execution_count": 145,
     "metadata": {},
     "output_type": "execute_result"
    }
   ],
   "source": [
    "1 / arr"
   ]
  },
  {
   "cell_type": "code",
   "execution_count": 146,
   "id": "c382e410-f210-4f01-b762-43b1a45f7bd6",
   "metadata": {},
   "outputs": [
    {
     "data": {
      "text/plain": [
       "array([  0,   1,   4,   9,  16,  25,  36,  49,  64,  81, 100])"
      ]
     },
     "execution_count": 146,
     "metadata": {},
     "output_type": "execute_result"
    }
   ],
   "source": [
    "# power\n",
    "arr ** 2"
   ]
  },
  {
   "cell_type": "markdown",
   "id": "6f1209ae-4d5e-4c0f-8f0e-b7f5e0db6322",
   "metadata": {},
   "source": [
    "## universal functions"
   ]
  },
  {
   "cell_type": "code",
   "execution_count": 148,
   "id": "50b533cc-1089-40eb-85d7-fc5080c8df00",
   "metadata": {},
   "outputs": [
    {
     "data": {
      "text/plain": [
       "array([0.        , 1.        , 1.41421356, 1.73205081, 2.        ,\n",
       "       2.23606798, 2.44948974, 2.64575131, 2.82842712, 3.        ,\n",
       "       3.16227766])"
      ]
     },
     "execution_count": 148,
     "metadata": {},
     "output_type": "execute_result"
    }
   ],
   "source": [
    "# square root\n",
    "np.sqrt(arr)"
   ]
  },
  {
   "cell_type": "code",
   "execution_count": 151,
   "id": "01ed8fef-27a4-442b-802b-bf3d3713d1a1",
   "metadata": {},
   "outputs": [
    {
     "data": {
      "text/plain": [
       "array([1.00000000e+00, 2.71828183e+00, 7.38905610e+00, 2.00855369e+01,\n",
       "       5.45981500e+01, 1.48413159e+02, 4.03428793e+02, 1.09663316e+03,\n",
       "       2.98095799e+03, 8.10308393e+03, 2.20264658e+04])"
      ]
     },
     "execution_count": 151,
     "metadata": {},
     "output_type": "execute_result"
    }
   ],
   "source": [
    "# exponential of all elements\n",
    "np.exp(arr)"
   ]
  },
  {
   "cell_type": "code",
   "execution_count": 154,
   "id": "6580a16b-548b-414c-b581-09de3baa26ff",
   "metadata": {},
   "outputs": [
    {
     "data": {
      "text/plain": [
       "np.int64(10)"
      ]
     },
     "execution_count": 154,
     "metadata": {},
     "output_type": "execute_result"
    }
   ],
   "source": [
    "arr.max()"
   ]
  },
  {
   "cell_type": "code",
   "execution_count": 152,
   "id": "17de400c-6c9b-4fd4-85d8-cbd55d842028",
   "metadata": {},
   "outputs": [
    {
     "data": {
      "text/plain": [
       "np.int64(10)"
      ]
     },
     "execution_count": 152,
     "metadata": {},
     "output_type": "execute_result"
    }
   ],
   "source": [
    "np.max(arr)"
   ]
  },
  {
   "cell_type": "code",
   "execution_count": 155,
   "id": "be3f8b9d-2724-4fdd-b1fb-49c21c2fc78d",
   "metadata": {},
   "outputs": [
    {
     "data": {
      "text/plain": [
       "np.int64(0)"
      ]
     },
     "execution_count": 155,
     "metadata": {},
     "output_type": "execute_result"
    }
   ],
   "source": [
    "arr.min()"
   ]
  },
  {
   "cell_type": "code",
   "execution_count": 153,
   "id": "e73aa8de-5983-4ce8-9e93-7c80b34edbb9",
   "metadata": {},
   "outputs": [
    {
     "data": {
      "text/plain": [
       "np.int64(0)"
      ]
     },
     "execution_count": 153,
     "metadata": {},
     "output_type": "execute_result"
    }
   ],
   "source": [
    "np.min(arr)"
   ]
  },
  {
   "cell_type": "code",
   "execution_count": 156,
   "id": "21791038-1512-4d80-9512-f8983794e1be",
   "metadata": {},
   "outputs": [
    {
     "data": {
      "text/plain": [
       "array([ 0.        ,  0.84147098,  0.90929743,  0.14112001, -0.7568025 ,\n",
       "       -0.95892427, -0.2794155 ,  0.6569866 ,  0.98935825,  0.41211849,\n",
       "       -0.54402111])"
      ]
     },
     "execution_count": 156,
     "metadata": {},
     "output_type": "execute_result"
    }
   ],
   "source": [
    "np.sin(arr)"
   ]
  },
  {
   "cell_type": "code",
   "execution_count": 157,
   "id": "302300c4-0177-4088-a904-4c29ff9dc5b9",
   "metadata": {},
   "outputs": [
    {
     "data": {
      "text/plain": [
       "array([ 1.        ,  0.54030231, -0.41614684, -0.9899925 , -0.65364362,\n",
       "        0.28366219,  0.96017029,  0.75390225, -0.14550003, -0.91113026,\n",
       "       -0.83907153])"
      ]
     },
     "execution_count": 157,
     "metadata": {},
     "output_type": "execute_result"
    }
   ],
   "source": [
    "np.cos(arr)"
   ]
  },
  {
   "cell_type": "code",
   "execution_count": 158,
   "id": "c43520d7-4450-4745-b7d5-6c1337f80cef",
   "metadata": {},
   "outputs": [
    {
     "name": "stderr",
     "output_type": "stream",
     "text": [
      "C:\\Users\\wagu0\\AppData\\Local\\Temp\\ipykernel_5480\\2835728015.py:2: RuntimeWarning: divide by zero encountered in log\n",
      "  np.log(arr)\n"
     ]
    },
    {
     "data": {
      "text/plain": [
       "array([      -inf, 0.        , 0.69314718, 1.09861229, 1.38629436,\n",
       "       1.60943791, 1.79175947, 1.94591015, 2.07944154, 2.19722458,\n",
       "       2.30258509])"
      ]
     },
     "execution_count": 158,
     "metadata": {},
     "output_type": "execute_result"
    }
   ],
   "source": [
    "# logrithmic\n",
    "# log of zero is technically negtive infinity\n",
    "np.log(arr)"
   ]
  },
  {
   "cell_type": "code",
   "execution_count": null,
   "id": "14f9e9a1-3a87-4781-a9e4-c53e3ec42505",
   "metadata": {},
   "outputs": [],
   "source": []
  },
  {
   "cell_type": "code",
   "execution_count": null,
   "id": "a3397cc7-0033-49f7-b40e-07b8d9874ae1",
   "metadata": {},
   "outputs": [],
   "source": []
  },
  {
   "cell_type": "code",
   "execution_count": null,
   "id": "5648ddb0-6ff9-4683-ad89-5c6b2abb5683",
   "metadata": {},
   "outputs": [],
   "source": []
  },
  {
   "cell_type": "code",
   "execution_count": null,
   "id": "f384ee5a-8842-4d17-a429-38aeb47fcc68",
   "metadata": {},
   "outputs": [],
   "source": []
  },
  {
   "cell_type": "markdown",
   "id": "d2832c7c-3b2c-4060-8727-59dd511d4016",
   "metadata": {},
   "source": [
    "# Exercises"
   ]
  },
  {
   "cell_type": "code",
   "execution_count": null,
   "id": "6062f2b5-6fdb-4f61-8a4b-829e7779aa1b",
   "metadata": {},
   "outputs": [],
   "source": [
    "# do again all operations mentioned above and maybe more and with larger arrays"
   ]
  },
  {
   "cell_type": "code",
   "execution_count": 133,
   "id": "e3349094-3784-4906-83bf-a9b65b89aad7",
   "metadata": {},
   "outputs": [],
   "source": [
    "arr_2d = np.arange(50).reshape(5, 10)"
   ]
  },
  {
   "cell_type": "code",
   "execution_count": 134,
   "id": "83bb8bf6-59db-43fb-92fe-b482e81dc8fc",
   "metadata": {},
   "outputs": [
    {
     "data": {
      "text/plain": [
       "array([[ 0,  1,  2,  3,  4,  5,  6,  7,  8,  9],\n",
       "       [10, 11, 12, 13, 14, 15, 16, 17, 18, 19],\n",
       "       [20, 21, 22, 23, 24, 25, 26, 27, 28, 29],\n",
       "       [30, 31, 32, 33, 34, 35, 36, 37, 38, 39],\n",
       "       [40, 41, 42, 43, 44, 45, 46, 47, 48, 49]])"
      ]
     },
     "execution_count": 134,
     "metadata": {},
     "output_type": "execute_result"
    }
   ],
   "source": [
    "arr_2d"
   ]
  },
  {
   "cell_type": "code",
   "execution_count": 119,
   "id": "55ae2461-72a9-4ea0-9002-5b19ce13f5ae",
   "metadata": {},
   "outputs": [],
   "source": [
    "# Print odd numbers before 100"
   ]
  },
  {
   "cell_type": "code",
   "execution_count": 120,
   "id": "f04976ac-5128-4c0f-8e77-9cb56ffc4c18",
   "metadata": {},
   "outputs": [],
   "source": [
    "# grab arbitrary sub-array from a given array (2-d), make a bigger array and grab some larger sub-arrays"
   ]
  },
  {
   "cell_type": "code",
   "execution_count": null,
   "id": "54b58187-ab40-4963-8860-b228d88fae48",
   "metadata": {},
   "outputs": [],
   "source": []
  },
  {
   "cell_type": "code",
   "execution_count": null,
   "id": "3c0bfe06-72cd-44e0-8a41-7a1d09f47ef7",
   "metadata": {},
   "outputs": [],
   "source": []
  }
 ],
 "metadata": {
  "kernelspec": {
   "display_name": "Python 3 (ipykernel)",
   "language": "python",
   "name": "python3"
  },
  "language_info": {
   "codemirror_mode": {
    "name": "ipython",
    "version": 3
   },
   "file_extension": ".py",
   "mimetype": "text/x-python",
   "name": "python",
   "nbconvert_exporter": "python",
   "pygments_lexer": "ipython3",
   "version": "3.11.9"
  }
 },
 "nbformat": 4,
 "nbformat_minor": 5
}
