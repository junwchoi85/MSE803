{
 "cells": [
  {
   "cell_type": "markdown",
   "metadata": {},
   "source": [
    "# Activity - Download pen source dataset\n",
    "Please use the attached dataset to do the initial data cleaning then calculate the correlation between features. See link: https://archive.ics.uci.edu/dataset/53/iris"
   ]
  },
  {
   "cell_type": "code",
   "execution_count": 1,
   "metadata": {},
   "outputs": [
    {
     "name": "stdout",
     "output_type": "stream",
     "text": [
      "Requirement already satisfied: seaborn in /Users/jc/projects/cwq/coding-with-qiskit/miniconda3/envs/cwq/lib/python3.12/site-packages (0.13.2)\n",
      "Requirement already satisfied: numpy!=1.24.0,>=1.20 in /Users/jc/projects/cwq/coding-with-qiskit/miniconda3/envs/cwq/lib/python3.12/site-packages (from seaborn) (1.26.4)\n",
      "Requirement already satisfied: pandas>=1.2 in /Users/jc/projects/cwq/coding-with-qiskit/miniconda3/envs/cwq/lib/python3.12/site-packages (from seaborn) (2.2.2)\n",
      "Requirement already satisfied: matplotlib!=3.6.1,>=3.4 in /Users/jc/projects/cwq/coding-with-qiskit/miniconda3/envs/cwq/lib/python3.12/site-packages (from seaborn) (3.9.2)\n",
      "Requirement already satisfied: contourpy>=1.0.1 in /Users/jc/projects/cwq/coding-with-qiskit/miniconda3/envs/cwq/lib/python3.12/site-packages (from matplotlib!=3.6.1,>=3.4->seaborn) (1.3.0)\n",
      "Requirement already satisfied: cycler>=0.10 in /Users/jc/projects/cwq/coding-with-qiskit/miniconda3/envs/cwq/lib/python3.12/site-packages (from matplotlib!=3.6.1,>=3.4->seaborn) (0.12.1)\n",
      "Requirement already satisfied: fonttools>=4.22.0 in /Users/jc/projects/cwq/coding-with-qiskit/miniconda3/envs/cwq/lib/python3.12/site-packages (from matplotlib!=3.6.1,>=3.4->seaborn) (4.53.1)\n",
      "Requirement already satisfied: kiwisolver>=1.3.1 in /Users/jc/projects/cwq/coding-with-qiskit/miniconda3/envs/cwq/lib/python3.12/site-packages (from matplotlib!=3.6.1,>=3.4->seaborn) (1.4.7)\n",
      "Requirement already satisfied: packaging>=20.0 in /Users/jc/projects/cwq/coding-with-qiskit/miniconda3/envs/cwq/lib/python3.12/site-packages (from matplotlib!=3.6.1,>=3.4->seaborn) (23.2)\n",
      "Requirement already satisfied: pillow>=8 in /Users/jc/projects/cwq/coding-with-qiskit/miniconda3/envs/cwq/lib/python3.12/site-packages (from matplotlib!=3.6.1,>=3.4->seaborn) (10.4.0)\n",
      "Requirement already satisfied: pyparsing>=2.3.1 in /Users/jc/projects/cwq/coding-with-qiskit/miniconda3/envs/cwq/lib/python3.12/site-packages (from matplotlib!=3.6.1,>=3.4->seaborn) (3.1.4)\n",
      "Requirement already satisfied: python-dateutil>=2.7 in /Users/jc/projects/cwq/coding-with-qiskit/miniconda3/envs/cwq/lib/python3.12/site-packages (from matplotlib!=3.6.1,>=3.4->seaborn) (2.9.0)\n",
      "Requirement already satisfied: pytz>=2020.1 in /Users/jc/projects/cwq/coding-with-qiskit/miniconda3/envs/cwq/lib/python3.12/site-packages (from pandas>=1.2->seaborn) (2024.2)\n",
      "Requirement already satisfied: tzdata>=2022.7 in /Users/jc/projects/cwq/coding-with-qiskit/miniconda3/envs/cwq/lib/python3.12/site-packages (from pandas>=1.2->seaborn) (2024.1)\n",
      "Requirement already satisfied: six>=1.5 in /Users/jc/projects/cwq/coding-with-qiskit/miniconda3/envs/cwq/lib/python3.12/site-packages (from python-dateutil>=2.7->matplotlib!=3.6.1,>=3.4->seaborn) (1.16.0)\n"
     ]
    }
   ],
   "source": [
    "# Install seaborn if not already installed\n",
    "!pip install seaborn"
   ]
  },
  {
   "cell_type": "code",
   "execution_count": 2,
   "metadata": {},
   "outputs": [],
   "source": [
    "# Import necessary libraries\n",
    "import pandas as pd\n",
    "import seaborn as sns\n",
    "import matplotlib.pyplot as plt"
   ]
  },
  {
   "cell_type": "code",
   "execution_count": 3,
   "metadata": {},
   "outputs": [
    {
     "name": "stdout",
     "output_type": "stream",
     "text": [
      "   sepal_length  sepal_width  petal_length  petal_width      species\n",
      "0           5.1          3.5           1.4          0.2  Iris-setosa\n",
      "1           4.9          3.0           1.4          0.2  Iris-setosa\n",
      "2           4.7          3.2           1.3          0.2  Iris-setosa\n",
      "3           4.6          3.1           1.5          0.2  Iris-setosa\n",
      "4           5.0          3.6           1.4          0.2  Iris-setosa\n"
     ]
    }
   ],
   "source": [
    "# Load the dataset\n",
    "column_names = ['sepal_length', 'sepal_width', 'petal_length', 'petal_width', 'species']\n",
    "iris_data = pd.read_csv('/Users/jc/projects/coding_exercise_python/MSE803/week6/bezdekIris.data', header=None, names=column_names)\n",
    "\n",
    "# Display the first few rows of the dataset\n",
    "print(iris_data.head())"
   ]
  },
  {
   "cell_type": "code",
   "execution_count": 13,
   "metadata": {},
   "outputs": [
    {
     "name": "stdout",
     "output_type": "stream",
     "text": [
      "Number of missing data :\n",
      "sepal_length    0\n",
      "sepal_width     0\n",
      "petal_length    0\n",
      "petal_width     0\n",
      "species         0\n",
      "dtype: int64\n"
     ]
    }
   ],
   "source": [
    "# Task 1 : Find the number and mean of missing data\n",
    "iris_X = iris_data.dropna(how=\"all\", inplace=True)\n",
    "print('Number of missing data :')\n",
    "print(iris_data.isnull().sum()) # There is no missing data."
   ]
  },
  {
   "cell_type": "markdown",
   "metadata": {},
   "source": [
    "```markdown\n",
    "# Iris Dataset Analysis\n",
    "\n",
    "This Jupyter Notebook provides an analysis of the Iris dataset. The dataset contains measurements of sepal length, sepal width, petal length, and petal width for three species of iris flowers: Iris-setosa, Iris-versicolor, and Iris-virginica.\n",
    "\n",
    "## Dataset\n",
    "\n",
    "The dataset can be downloaded from the UCI Machine Learning Repository: [Iris Dataset](https://archive.ics.uci.edu/dataset/53/iris).\n",
    "\n",
    "## Workflow\n",
    "\n",
    "1. **Download and Load the Dataset**\n",
    "    - The dataset is downloaded and loaded into a pandas DataFrame.\n",
    "    - The dataset contains the following columns: `sepal_length`, `sepal_width`, `petal_length`, `petal_width`, and `species`.\n",
    "\n",
    "2. **Data Cleaning**\n",
    "    - Missing data is identified and handled. In this case, there is no missing data in the dataset.\n",
    "\n",
    "3. **Data Analysis**\n",
    "    - The correlation between the features is calculated and stored in a correlation matrix.\n",
    "\n",
    "## Variables\n",
    "\n",
    "- `cleaned_data`: NoneType, Value: None\n",
    "- `column_names`: list, Value: `['sepal_length', 'sepal_width', 'petal_length', 'petal_width', 'species']`\n",
    "- `correlation_matrix`: pandas DataFrame, Value:\n",
    "  ```\n",
    "                     sepal_length  sepal_width  petal_length  petal_width\n",
    "  sepal_length      1.000000    -0.117570      0.871754     0.817941\n",
    "  sepal_width      -0.117570     1.000000     -0.428440    -0.366126\n",
    "  petal_length      0.871754    -0.428440      1.000000     0.962865\n",
    "  petal_width       0.817941    -0.366126      0.962865     1.000000\n",
    "  ```\n",
    "- `iris_X`: NoneType, Value: None\n",
    "- `iris_data`: pandas DataFrame, Value: DataFrame containing the Iris dataset\n",
    "- `iris_df`: pandas DataFrame, Value: DataFrame containing the Iris dataset\n",
    "\n",
    "## Installation\n",
    "\n",
    "To run this notebook, you need to have the following libraries installed:\n",
    "\n",
    "- pandas\n",
    "- seaborn\n",
    "- matplotlib\n",
    "\n",
    "You can install the required libraries using the following command:\n",
    "\n",
    "```python\n",
    "!pip install pandas seaborn matplotlib\n",
    "```\n",
    "\n",
    "## Usage\n",
    "\n",
    "To use this notebook, follow these steps:\n",
    "\n",
    "1. Download the Iris dataset from the UCI Machine Learning Repository.\n",
    "2. Load the dataset into a pandas DataFrame.\n",
    "3. Perform data cleaning and analysis as described in the workflow.\n",
    "\n",
    "## Conclusion\n",
    "\n",
    "This notebook provides a comprehensive analysis of the Iris dataset, including data cleaning and correlation analysis. The results can be used to understand the relationships between different features of the iris flowers.\n",
    "```"
   ]
  }
 ],
 "metadata": {
  "kernelspec": {
   "display_name": "cwq",
   "language": "python",
   "name": "python3"
  },
  "language_info": {
   "codemirror_mode": {
    "name": "ipython",
    "version": 3
   },
   "file_extension": ".py",
   "mimetype": "text/x-python",
   "name": "python",
   "nbconvert_exporter": "python",
   "pygments_lexer": "ipython3",
   "version": "3.12.4"
  }
 },
 "nbformat": 4,
 "nbformat_minor": 2
}
